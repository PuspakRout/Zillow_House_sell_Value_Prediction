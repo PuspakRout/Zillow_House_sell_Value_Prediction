{
 "cells": [
  {
   "cell_type": "code",
   "execution_count": 2,
   "metadata": {},
   "outputs": [],
   "source": [
    "import sys\n",
    "sys.path.insert(0, './Modules')\n",
    "\n",
    "from sklearn.externals import joblib\n",
    "from helpers import read_in_dataset\n",
    "import pandas as pd\n",
    "import numpy as np\n",
    "import gc\n",
    "\n",
    "CHUNK_SIZE = 50000"
   ]
  },
  {
   "cell_type": "code",
   "execution_count": 3,
   "metadata": {},
   "outputs": [],
   "source": [
    "my_model = joblib.load('models/model.pkl')"
   ]
  },
  {
   "cell_type": "code",
   "execution_count": 4,
   "metadata": {},
   "outputs": [],
   "source": [
    "class medianPredictor:\n",
    "    \n",
    "    def fit(self, X, y=None):\n",
    "        self.med = X.median()\n",
    "        \n",
    "    def predict(self, X, y=None):\n",
    "        return np.array([self.med] * len(X))\n",
    "    \n",
    "class zeroPredictor:\n",
    "    \n",
    "    def fit(self, X, y=None):\n",
    "        return self\n",
    "    \n",
    "    def predict(self, X, y=None):\n",
    "        return np.array([0] * len(X))"
   ]
  },
  {
   "cell_type": "code",
   "execution_count": 5,
   "metadata": {},
   "outputs": [],
   "source": [
    "def make_chunks(df, chunksize):\n",
    "    \"\"\"Generator to return chunks of a dataframe of a given size\"\"\"\n",
    "    chunk = 1\n",
    "    total = len(df)//chunksize + 1\n",
    "    while chunk <= total:\n",
    "        if chunk < total:\n",
    "            yield df.iloc[((chunk-1)*chunksize):(chunk*chunksize)]\n",
    "        else:\n",
    "            yield df.iloc[((chunk-1)*chunksize):]\n",
    "        chunk += 1"
   ]
  },
  {
   "cell_type": "code",
   "execution_count": 6,
   "metadata": {},
   "outputs": [],
   "source": [
    "def add_date(df, dt):\n",
    "    df['transactiondate'] = pd.to_datetime(dt)\n",
    "    return df"
   ]
  },
  {
   "cell_type": "code",
   "execution_count": 7,
   "metadata": {},
   "outputs": [],
   "source": [
    "def make_sub_file(model, chunksize):\n",
    "    \n",
    "    dates = ['2016-10-01', '2016-11-01', '2016-12-01', '2017-10-01', '2017-11-01', '2017-12-01']\n",
    "    props = read_in_dataset('properties_2016')\n",
    "\n",
    "    submission_df = pd.DataFrame(index=props.parcelid)\n",
    "\n",
    "    for d in dates:\n",
    "        props = add_date(props, d)\n",
    "        for x in make_chunks(props, chunksize):\n",
    "            preds = model.predict(x)\n",
    "            ix = x.parcelid\n",
    "            submission_df.loc[ix,str(pd.to_datetime(d).year) + str(pd.to_datetime(d).month)] = preds\n",
    "        print('processed date {0}'.format(d))\n",
    "        \n",
    "    del props\n",
    "    \n",
    "    return submission_df.round(4).reset_index()"
   ]
  },
  {
   "cell_type": "code",
   "execution_count": 8,
   "metadata": {},
   "outputs": [],
   "source": [
    "!md submissions"
   ]
  },
  {
   "cell_type": "code",
   "execution_count": 9,
   "metadata": {},
   "outputs": [
    {
     "name": "stderr",
     "output_type": "stream",
     "text": [
      "c:\\python\\lib\\site-packages\\IPython\\core\\interactiveshell.py:3331: DtypeWarning: Columns (22,32,34,49,55) have mixed types.Specify dtype option on import or set low_memory=False.\n",
      "  exec(code_obj, self.user_global_ns, self.user_ns)\n"
     ]
    },
    {
     "name": "stdout",
     "output_type": "stream",
     "text": [
      "processed date 2016-10-01\n",
      "processed date 2016-11-01\n",
      "processed date 2016-12-01\n",
      "processed date 2017-10-01\n",
      "processed date 2017-11-01\n",
      "processed date 2017-12-01\n"
     ]
    },
    {
     "data": {
      "text/plain": [
       "0"
      ]
     },
     "execution_count": 9,
     "metadata": {},
     "output_type": "execute_result"
    }
   ],
   "source": [
    "mp = medianPredictor()\n",
    "mp.fit(read_in_dataset('train_2016').logerror)\n",
    "make_sub_file(mp, CHUNK_SIZE).to_csv('submissions/median_submission.csv', index=False)\n",
    "gc.collect() # because of memory issues, garbage collect"
   ]
  },
  {
   "cell_type": "code",
   "execution_count": 10,
   "metadata": {},
   "outputs": [
    {
     "name": "stdout",
     "output_type": "stream",
     "text": [
      "processed date 2016-10-01\n",
      "processed date 2016-11-01\n",
      "processed date 2016-12-01\n",
      "processed date 2017-10-01\n",
      "processed date 2017-11-01\n",
      "processed date 2017-12-01\n"
     ]
    },
    {
     "data": {
      "text/plain": [
       "0"
      ]
     },
     "execution_count": 10,
     "metadata": {},
     "output_type": "execute_result"
    }
   ],
   "source": [
    "zp = zeroPredictor()\n",
    "# don't need to fit\n",
    "make_sub_file(zp, CHUNK_SIZE).to_csv('submissions/zero_submission.csv', index=False)\n",
    "gc.collect() # because of memory issues, garbage collect"
   ]
  },
  {
   "cell_type": "code",
   "execution_count": 11,
   "metadata": {},
   "outputs": [
    {
     "name": "stdout",
     "output_type": "stream",
     "text": [
      "processed date 2016-10-01\n",
      "processed date 2016-11-01\n",
      "processed date 2016-12-01\n",
      "processed date 2017-10-01\n",
      "processed date 2017-11-01\n",
      "processed date 2017-12-01\n"
     ]
    },
    {
     "data": {
      "text/plain": [
       "0"
      ]
     },
     "execution_count": 11,
     "metadata": {},
     "output_type": "execute_result"
    }
   ],
   "source": [
    "make_sub_file(my_model, CHUNK_SIZE).to_csv('submissions/model_submission.csv', index=False)\n",
    "gc.collect() # because of memory issues, garbage collect"
   ]
  },
  {
   "cell_type": "code",
   "execution_count": null,
   "metadata": {},
   "outputs": [],
   "source": []
  }
 ],
 "metadata": {
  "kernelspec": {
   "display_name": "Python 3",
   "language": "python",
   "name": "python3"
  },
  "language_info": {
   "codemirror_mode": {
    "name": "ipython",
    "version": 3
   },
   "file_extension": ".py",
   "mimetype": "text/x-python",
   "name": "python",
   "nbconvert_exporter": "python",
   "pygments_lexer": "ipython3",
   "version": "3.7.4"
  }
 },
 "nbformat": 4,
 "nbformat_minor": 4
}
